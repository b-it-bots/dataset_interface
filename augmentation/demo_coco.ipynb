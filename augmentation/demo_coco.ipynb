{
 "cells": [
  {
   "cell_type": "code",
   "execution_count": null,
   "metadata": {},
   "outputs": [],
   "source": [
    "import numpy as np\n",
    "import yaml\n",
    "import os\n",
    "import xml.etree.ElementTree\n",
    "import glob"
   ]
  },
  {
   "cell_type": "markdown",
   "metadata": {},
   "source": [
    "# Manual labeled images"
   ]
  },
  {
   "cell_type": "code",
   "execution_count": null,
   "metadata": {},
   "outputs": [],
   "source": [
    "trash_can_path = 'trash_can/'\n",
    "xml_files = glob.glob(trash_can_path+'/*.xml')\n",
    "img_files = glob.glob(trash_can_path+'/*.jpg')\n",
    "# print(img_files)\n",
    "\n",
    "img_name_ = train_annotations[-1]['image_name']\n",
    "latest_image_num = int(os.path.basename(img_name_).replace('.jpg',''))\n",
    "\n",
    "for idx, xml_file in enumerate(xml_files):\n",
    "    latest_image_num += 1\n",
    "    root = xml.etree.ElementTree.parse(xml_file).getroot()\n",
    "    \n",
    "    image_name = os.path.join('training_images',str(latest_image_num) + '.jpg') \n",
    "    file_name = root.find('filename').text\n",
    "    output_path = os.path.join('robocup_objects/training_images/',str(latest_image_num) \\\n",
    "                 + '.jpg')\n",
    "    \n",
    "#     print(file_name)\n",
    "    \n",
    "    object_dict = {'class_id': classes_to_id['trash_can'],\n",
    "                   'xmin': int(root.find('object').find('bndbox').find('xmin').text),\n",
    "                   'xmax': int(root.find('object').find('bndbox').find('xmax').text),\n",
    "                   'ymin': int(root.find('object').find('bndbox').find('ymin').text),\n",
    "                   'ymax': int(root.find('object').find('bndbox').find('ymax').text)}\n",
    "    \n",
    "    train_annotations.append({'image_name': image_name,'objects': [object_dict]})\n",
    "    \n",
    "    img = imread(img_files[idx]) \n",
    "    imwrite(output_path, img)\n",
    "    \n",
    "print(len(train_annotations))"
   ]
  }
 ],
 "metadata": {
  "kernelspec": {
   "display_name": "Python 3",
   "language": "python",
   "name": "python3"
  },
  "language_info": {
   "codemirror_mode": {
    "name": "ipython",
    "version": 3
   },
   "file_extension": ".py",
   "mimetype": "text/x-python",
   "name": "python",
   "nbconvert_exporter": "python",
   "pygments_lexer": "ipython3",
   "version": "3.7.3"
  }
 },
 "nbformat": 4,
 "nbformat_minor": 2
}
