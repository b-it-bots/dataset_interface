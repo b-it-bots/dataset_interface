{
 "cells": [
  {
   "cell_type": "code",
   "execution_count": null,
   "metadata": {},
   "outputs": [],
   "source": [
    "from dataset_interface.coco import COCODataAPI\n",
    "import numpy as np\n",
    "import matplotlib.pyplot as plt\n",
    "import yaml\n",
    "import os\n",
    "from imageio import imread, imwrite\n",
    "import copy\n",
    "import xml.etree.ElementTree\n",
    "import glob\n",
    "import shutil"
   ]
  },
  {
   "cell_type": "code",
   "execution_count": null,
   "metadata": {},
   "outputs": [],
   "source": [
    "data_dir = 'coco/'\n",
    "config_file_val = 'coco/sample_coco_configs_val.yml'\n",
    "config_file_train = 'coco/sample_coco_configs_train.yml'\n",
    "coco_api_validation = COCODataAPI(data_dir, config_file_val)\n",
    "coco_api_training = COCODataAPI(data_dir, config_file_train)"
   ]
  },
  {
   "cell_type": "markdown",
   "metadata": {},
   "source": [
    "## Categories in dataset"
   ]
  },
  {
   "cell_type": "code",
   "execution_count": null,
   "metadata": {},
   "outputs": [],
   "source": [
    "for k, category in coco_api_training.get_sub_categories('furniture').items():\n",
    "    print(k, category.name)"
   ]
  },
  {
   "cell_type": "code",
   "execution_count": null,
   "metadata": {},
   "outputs": [],
   "source": [
    "# List of desired coco categories: \n",
    "\n",
    "desired_categories_to_id = {'spoon':50, 'orange':55, 'dining table':67, 'bowl':51, \\\n",
    "                           'cup':47, 'fork':48, 'bed':65, 'chair':62, 'couch':63, 'knife': 49, 'person': 1}\n",
    "\n",
    "coco_cat_id_to_name = dict()\n",
    "for key,value in desired_categories_to_id.items():\n",
    "    coco_cat_id_to_name[value] = key\n",
    "coco_cat_id_to_name"
   ]
  },
  {
   "cell_type": "code",
   "execution_count": null,
   "metadata": {},
   "outputs": [],
   "source": [
    "# coco_api.get_images_in_category(55)"
   ]
  },
  {
   "cell_type": "markdown",
   "metadata": {},
   "source": [
    "## Load the images id and image object of the desired categories"
   ]
  },
  {
   "cell_type": "code",
   "execution_count": null,
   "metadata": {},
   "outputs": [],
   "source": [
    "train_images_dictionaries = {}\n",
    "val_images_dictionaries = {}\n",
    "\n",
    "print('Loading images in categories {}'.format(list(desired_categories_to_id.keys())))\n",
    "for key, category_id in desired_categories_to_id.items():\n",
    "    print('collecting images of {} with Id {} '.format(key,category_id))\n",
    "    for image_id, image_inf in coco_api_training.get_images_in_category(category_id).items():\n",
    "        if image_id in train_images_dictionaries:\n",
    "            continue\n",
    "        boxes = coco_api_training.get_bounding_boxes_by_ids(image_id, list(desired_categories_to_id.values()))\n",
    "        train_images_dictionaries[image_id] = {'info': image_inf, 'bounding_boxes': boxes}\n",
    "    \n",
    "    for image_id, image_inf in coco_api_validation.get_images_in_category(category_id).items():\n",
    "        if image_id in val_images_dictionaries:\n",
    "            continue\n",
    "        boxes = coco_api_validation.get_bounding_boxes_by_ids(image_id, list(desired_categories_to_id.values()))\n",
    "        val_images_dictionaries[image_id] = {'info': image_inf, 'bounding_boxes': boxes}\n",
    "    \n",
    "print('Images loaded')"
   ]
  },
  {
   "cell_type": "code",
   "execution_count": null,
   "metadata": {},
   "outputs": [],
   "source": [
    "len(val_images_dictionaries)"
   ]
  },
  {
   "cell_type": "markdown",
   "metadata": {},
   "source": [
    "## Remove images "
   ]
  },
  {
   "cell_type": "code",
   "execution_count": null,
   "metadata": {},
   "outputs": [],
   "source": [
    "filenames = glob.glob('robocup_objects/training_images/*.jpg')\n",
    "for fn in filenames:\n",
    "    img_num = int(os.path.basename(fn).split('.')[0])\n",
    "    if img_num > 15199:\n",
    "        os.remove(fn)\n",
    "print('done')"
   ]
  },
  {
   "cell_type": "markdown",
   "metadata": {},
   "source": [
    "## Read the annotations file"
   ]
  },
  {
   "cell_type": "code",
   "execution_count": null,
   "metadata": {},
   "outputs": [],
   "source": [
    "val_annotations_file = 'robocup_objects/val_annotations.yml'\n",
    "with open(val_annotations_file, 'r') as annotation_file:\n",
    "    val_annotations = yaml.safe_load(annotation_file)\n",
    "    \n",
    "print('Validation annotations ', len(val_annotations))\n",
    "    \n",
    "train_annotations_file = 'robocup_objects/train_annotations.yml'\n",
    "with open(train_annotations_file, 'r') as annotation_file:\n",
    "    train_annotations = yaml.safe_load(annotation_file)\n",
    "\n",
    "print('Training annotations ', len(train_annotations))\n"
   ]
  },
  {
   "cell_type": "markdown",
   "metadata": {},
   "source": [
    "## Get the number of the latest image generated"
   ]
  },
  {
   "cell_type": "code",
   "execution_count": null,
   "metadata": {},
   "outputs": [],
   "source": [
    "img_name = val_annotations[-1]['image_name']\n",
    "latest_image_num = int(os.path.basename(img_name).replace('.jpg',''))\n",
    "print(val_annotations[-1].keys())"
   ]
  },
  {
   "cell_type": "markdown",
   "metadata": {},
   "source": [
    "## Load classes file"
   ]
  },
  {
   "cell_type": "code",
   "execution_count": null,
   "metadata": {},
   "outputs": [],
   "source": [
    "classes_file = 'classes_robocup.yml'\n",
    "with open(classes_file, 'r') as classes_file:\n",
    "    classes = yaml.safe_load(classes_file)\n",
    "\n",
    "classes_to_id = dict()\n",
    "for key,value in classes.items():\n",
    "    classes_to_id[value] = key"
   ]
  },
  {
   "cell_type": "markdown",
   "metadata": {},
   "source": [
    "## Annotation format \n",
    "* image_name \n",
    "* objects:\n",
    "    - category_id \n",
    "    - xmin\n",
    "    - xmax\n",
    "    - ymin\n",
    "    - ymax"
   ]
  },
  {
   "cell_type": "code",
   "execution_count": null,
   "metadata": {},
   "outputs": [],
   "source": [
    "# Flag \n",
    "dataset = 'train'\n",
    "output_annotations = []\n",
    "\n",
    "cat_idx = 0\n",
    "desired_categories = list(desired_categories_to_id.keys())\n",
    "print(desired_categories)\n",
    "\n",
    "if dataset == 'val':\n",
    "    images_dictionaries = copy.deepcopy(val_images_dictionaries)\n",
    "    img_name_ = val_annotations[-1]['image_name']\n",
    "    latest_image_num = int(os.path.basename(img_name_).replace('.jpg',''))\n",
    "    print('Starting to add validation images at index ', latest_image_num)\n",
    "else:\n",
    "    images_dictionaries = copy.deepcopy(train_images_dictionaries)\n",
    "    img_name_ = train_annotations[-1]['image_name']\n",
    "    latest_image_num = int(os.path.basename(img_name_).replace('.jpg',''))\n",
    "    print('Starting to add training images at index ', latest_image_num)\n",
    "\n",
    "# for dict_ in images_dictionaries:\n",
    "#     category = desired_categories[cat_idx]\n",
    "#     print('Images in category ', category)\n",
    "for image_id, image_data in images_dictionaries.items():\n",
    "# shutil.copyfile\n",
    "    latest_image_num += 1\n",
    "\n",
    "    print('Adding image number {}'.format(latest_image_num))\n",
    "\n",
    "    if dataset == 'val':\n",
    "#         objects = coco_api_validation.get_bounding_boxes_by_names(id_, [category])\n",
    "#         objects = objects[coco_api_validation.get_category_id(category)]\n",
    "        output_path = os.path.join('robocup_objects/validation_images/',str(latest_image_num) \\\n",
    "             + '.jpg')\n",
    "        image_name = os.path.join('validation_images',str(latest_image_num) \\\n",
    "             + '.jpg')\n",
    "    else:\n",
    "#         objects = coco_api_training.get_bounding_boxes_by_names(id_, [category])\n",
    "#         objects = objects[coco_api_training.get_category_id(category)]\n",
    "        output_path = os.path.join('robocup_objects/training_images/',str(latest_image_num) \\\n",
    "             + '.jpg')\n",
    "        image_name = os.path.join('training_images',str(latest_image_num) \\\n",
    "             + '.jpg')\n",
    "\n",
    "    image_inf = image_data['info']\n",
    "    bounding_boxes = image_data['bounding_boxes']\n",
    "    detected_objects = []\n",
    "\n",
    "    for category_id, boxes in bounding_boxes.items():\n",
    "        class_name = coco_cat_id_to_name[category_id]\n",
    "        for box in boxes:\n",
    "            object_dict = {'class_id': classes_to_id[class_name.replace(' ','_')],\n",
    "                           'xmin': box['min_x'],\n",
    "                           'xmax': box['min_x'] + box['width'],\n",
    "                           'ymin': box['min_y'],\n",
    "                           'ymax': box['min_y'] + box['height']}\n",
    "\n",
    "            detected_objects.append(object_dict)\n",
    "    shutil.copyfile(image_inf.image_path, output_path)\n",
    "    if dataset == 'val':\n",
    "        val_annotations.append({'image_name': image_name,'objects': detected_objects})\n",
    "    else:\n",
    "        train_annotations.append({'image_name': image_name,'objects': detected_objects})\n",
    "#         \n",
    "        \n",
    "#     cat_idx +=1"
   ]
  },
  {
   "cell_type": "markdown",
   "metadata": {},
   "source": [
    "## Save annotations"
   ]
  },
  {
   "cell_type": "code",
   "execution_count": null,
   "metadata": {},
   "outputs": [],
   "source": [
    "dataset = 'train'\n",
    "if dataset == 'val':\n",
    "    annotations_file = 'robocup_objects/val_annotations.yml'\n",
    "    output_annotations = val_annotations\n",
    "else:\n",
    "    print('saving training annotations')\n",
    "    annotations_file = 'robocup_objects/train_annotations.yml'\n",
    "    output_annotations = train_annotations\n",
    "\n",
    "with open(annotations_file, 'w') as annotation_file:\n",
    "    yaml.safe_dump(output_annotations, annotation_file,default_flow_style=False,\n",
    "                   encoding='utf-8')\n",
    "    \n",
    "print('done saving')"
   ]
  },
  {
   "cell_type": "code",
   "execution_count": null,
   "metadata": {},
   "outputs": [],
   "source": [
    "train_annotations = train_annotations[0: 95496]\n",
    "\n",
    "len(train_annotations)"
   ]
  },
  {
   "cell_type": "markdown",
   "metadata": {},
   "source": [
    "# Manual labeled images"
   ]
  },
  {
   "cell_type": "code",
   "execution_count": null,
   "metadata": {},
   "outputs": [],
   "source": [
    "trash_can_path = 'trash_can/'\n",
    "xml_files = glob.glob(trash_can_path+'/*.xml')\n",
    "img_files = glob.glob(trash_can_path+'/*.jpg')\n",
    "# print(img_files)\n",
    "\n",
    "img_name_ = train_annotations[-1]['image_name']\n",
    "latest_image_num = int(os.path.basename(img_name_).replace('.jpg',''))\n",
    "\n",
    "for idx, xml_file in enumerate(xml_files):\n",
    "    latest_image_num += 1\n",
    "    root = xml.etree.ElementTree.parse(xml_file).getroot()\n",
    "    \n",
    "    image_name = os.path.join('training_images',str(latest_image_num) + '.jpg') \n",
    "    file_name = root.find('filename').text\n",
    "    output_path = os.path.join('robocup_objects/training_images/',str(latest_image_num) \\\n",
    "                 + '.jpg')\n",
    "    \n",
    "#     print(file_name)\n",
    "    \n",
    "    object_dict = {'class_id': classes_to_id['trash_can'],\n",
    "                   'xmin': int(root.find('object').find('bndbox').find('xmin').text),\n",
    "                   'xmax': int(root.find('object').find('bndbox').find('xmax').text),\n",
    "                   'ymin': int(root.find('object').find('bndbox').find('ymin').text),\n",
    "                   'ymax': int(root.find('object').find('bndbox').find('ymax').text)}\n",
    "    \n",
    "    train_annotations.append({'image_name': image_name,'objects': [object_dict]})\n",
    "    \n",
    "    img = imread(img_files[idx]) \n",
    "    imwrite(output_path, img)\n",
    "    \n",
    "print(len(train_annotations))"
   ]
  }
 ],
 "metadata": {
  "kernelspec": {
   "display_name": "Python 3",
   "language": "python",
   "name": "python3"
  },
  "language_info": {
   "codemirror_mode": {
    "name": "ipython",
    "version": 3
   },
   "file_extension": ".py",
   "mimetype": "text/x-python",
   "name": "python",
   "nbconvert_exporter": "python",
   "pygments_lexer": "ipython3",
   "version": "3.7.3"
  }
 },
 "nbformat": 4,
 "nbformat_minor": 2
}
